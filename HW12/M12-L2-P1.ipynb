{
 "cells": [
  {
   "cell_type": "markdown",
   "metadata": {},
   "source": [
    "# M12-L1 Problem 2\n",
    "\n",
    "Sometimes the dimensionality is greater than the number of samples. For example,in this problem X has 19 features, but there are only 4 data points. You will need to use the alternate PCA formulation in this case. Follow the steps in the cells below to implement this method."
   ]
  },
  {
   "cell_type": "code",
   "execution_count": 11,
   "metadata": {},
   "outputs": [],
   "source": [
    "import numpy as np\n",
    "import matplotlib.pyplot as plt\n",
    "\n",
    "X = np.array([  [-2,  1,  2, -3,  4,  1,  0,  3,  0,  2,  1,  1,  2,  3, -2, -3, 2,  1,  0],\n",
    "                [ 1,  2, -4,  2, -4,  2,  5,  2,  2,  1, -3,  0,  0,  1, -2,  1, 1, -3, -2],\n",
    "                [ 1, -3,  2,  1,  0, -3, -5, -1,  3,  3, -2, -3, -2, -1,  1,  0, 5,  4,  2],\n",
    "                [ 3, -1,  0,  2,  2, -5, -4, -1,  2, -1,  3,  4,  4,  2,  1,  2, -2,  1, -1]])\n"
   ]
  },
  {
   "cell_type": "markdown",
   "metadata": {},
   "source": [
    "## Computing Principal Components\n",
    "\n",
    "### The A matrix\n",
    "\n",
    "First, you should compute the `A` matrix, where A is $(X-\\mu)'$. (Note the transpose)\n",
    "\n",
    "Print this matrix below. It should have size $19\\times 4$."
   ]
  },
  {
   "cell_type": "code",
   "execution_count": 13,
   "metadata": {},
   "outputs": [
    {
     "name": "stdout",
     "output_type": "stream",
     "text": [
      "A = \n",
      " [[-2.75  0.25  0.25  2.25]\n",
      " [ 1.25  2.25 -2.75 -0.75]\n",
      " [ 2.   -4.    2.    0.  ]\n",
      " [-3.5   1.5   0.5   1.5 ]\n",
      " [ 3.5  -4.5  -0.5   1.5 ]\n",
      " [ 2.25  3.25 -1.75 -3.75]\n",
      " [ 1.    6.   -4.   -3.  ]\n",
      " [ 2.25  1.25 -1.75 -1.75]\n",
      " [-1.75  0.25  1.25  0.25]\n",
      " [ 0.75 -0.25  1.75 -2.25]\n",
      " [ 1.25 -2.75 -1.75  3.25]\n",
      " [ 0.5  -0.5  -3.5   3.5 ]\n",
      " [ 1.   -1.   -3.    3.  ]\n",
      " [ 1.75 -0.25 -2.25  0.75]\n",
      " [-1.5  -1.5   1.5   1.5 ]\n",
      " [-3.    1.    0.    2.  ]\n",
      " [ 0.5  -0.5   3.5  -3.5 ]\n",
      " [ 0.25 -3.75  3.25  0.25]\n",
      " [ 0.25 -1.75  2.25 -0.75]]\n"
     ]
    }
   ],
   "source": [
    "# YOUR CODE GOES HERE\n",
    "mu = np.mean(X, axis=0)\n",
    "X_centered = X - mu\n",
    "A = X_centered.T\n",
    "print(\"A = \\n\", A)"
   ]
  },
  {
   "cell_type": "markdown",
   "metadata": {},
   "source": [
    "### \"Small\" covariance matrix\n",
    "\n",
    "By transposing $X-\\mu$ to get $A$, now we can compute a smaller covariance matrix with $A' A$. Compute this matrix, `C`, below and print the result."
   ]
  },
  {
   "cell_type": "code",
   "execution_count": 14,
   "metadata": {},
   "outputs": [
    {
     "name": "stdout",
     "output_type": "stream",
     "text": [
      "C = \n",
      " [[ 3.88194444 -1.04861111 -1.46527778 -1.36805556]\n",
      " [-1.04861111  6.74305556 -2.95138889 -2.74305556]\n",
      " [-1.46527778 -2.95138889  5.46527778 -1.04861111]\n",
      " [-1.36805556 -2.74305556 -1.04861111  5.15972222]]\n"
     ]
    }
   ],
   "source": [
    "# YOUR CODE GOES HERE\n",
    "n = A.shape[0]\n",
    "C = (1 / (n - 1)) * np.dot(A.T, A)\n",
    "print(\"C = \\n\", C)"
   ]
  },
  {
   "cell_type": "markdown",
   "metadata": {},
   "source": [
    "### Finding nonzero eigenvectors\n",
    "Next, find the useful (nonzero) eigenvectors of `C`. \n",
    "\n",
    "For validation purposes, there should be 3 useful eigenvectors, and the first one is `[-0.06628148 -0.79038331 0.47285044 0.38381435]`. \n",
    "\n",
    "Keep these eigenvectors in a $4\\times 3$ array `e`."
   ]
  },
  {
   "cell_type": "code",
   "execution_count": 21,
   "metadata": {},
   "outputs": [
    {
     "name": "stdout",
     "output_type": "stream",
     "text": [
      "Eigenvectors, e:\n",
      " [[-0.06628148  0.04124587 -0.86249959]\n",
      " [-0.79038331 -0.06822502  0.34733208]\n",
      " [ 0.47285044 -0.69123739  0.22046165]\n",
      " [ 0.38381435  0.71821654  0.29470586]]\n"
     ]
    }
   ],
   "source": [
    "# YOUR CODE GOES HERE\n",
    "eigenvalues, eigenvectors = np.linalg.eig(C)\n",
    "\n",
    "sorted_indices = np.argsort(eigenvalues)[::-1]\n",
    "eigenvalues = eigenvalues[sorted_indices]\n",
    "eigenvectors = eigenvectors[:, sorted_indices]\n",
    "\n",
    "e = eigenvectors[:, :-1]\n",
    "print(\"Eigenvectors, e:\\n\", e)"
   ]
  },
  {
   "cell_type": "markdown",
   "metadata": {},
   "source": [
    "### Calculating \"eigenfaces\"\n",
    "\n",
    "Now, we have all we need to compute `U`, the matrix of eigenfaces.\n",
    "\n",
    "$\\bf{U}_i = \\bf{A} \\bf{e}_i$  \n",
    "\n",
    "$(19 \\times 3) = (19 \\times 4)(4 \\times 3)$\n",
    "\n",
    "Compute and print U. Be sure to normalize your eigenvectors `e` before using the above equation."
   ]
  },
  {
   "cell_type": "code",
   "execution_count": 16,
   "metadata": {},
   "outputs": [
    {
     "name": "stdout",
     "output_type": "stream",
     "text": [
      "Eigenfaces, U:\n",
      " [[ 0.96647314  1.31269548  3.17691049]\n",
      " [-3.44941376  1.26029144 -1.12392626]\n",
      " [ 3.97467115 -1.02708294 -2.67340418]\n",
      " [-0.14144304  0.48500804  4.0920363 ]\n",
      " [ 3.66403602  1.87431665 -4.24991496]\n",
      " [-4.98467116 -1.61257473 -2.30274969]\n",
      " [-7.85142613  0.24219565 -0.54447132]\n",
      " [-2.63627584 -0.0396916  -2.40800213]\n",
      " [ 0.6054134  -0.77372912  1.94546084]\n",
      " [ 0.11179069 -2.77766199 -1.010988  ]\n",
      " [ 2.51061063  3.78304534 -1.46130156]\n",
      " [ 0.05042462  4.98782419 -0.34506112]\n",
      " [ 0.45699358  4.33783268 -0.98709906]\n",
      " [-0.69444948  2.18318305 -1.87121663]\n",
      " [ 2.56999436  0.08093747  1.54550254]\n",
      " [ 0.17608984  1.24447045  3.52424257]\n",
      " [ 0.67367721 -4.8783533  -0.86477055]\n",
      " [ 4.58008454 -1.80081206 -0.72794335]\n",
      " [ 2.14265314 -1.96424127 -0.5484467 ]]\n"
     ]
    }
   ],
   "source": [
    "# YOUR CODE GOES HERE\n",
    "e_normalized = e / np.linalg.norm(e, axis=0)\n",
    "U = np.dot(A, e_normalized)\n",
    "print(\"Eigenfaces, U:\\n\",U)"
   ]
  },
  {
   "cell_type": "markdown",
   "metadata": {},
   "source": [
    "## Projecting data into 3D\n",
    "\n",
    "Now project your data into 3 dimensions with the formula: \n",
    "\n",
    "$\\Omega = U^\\text{T} A $  \n",
    "\n",
    "$(3 \\times 4) = (3 \\times 19)(19 \\times 4)$\n",
    "\n",
    "Call the projected data $\\Omega$ \"`W`\". Print `W.T`"
   ]
  },
  {
   "cell_type": "code",
   "execution_count": 17,
   "metadata": {},
   "outputs": [
    {
     "name": "stdout",
     "output_type": "stream",
     "text": [
      "Projected data in 3 dimensions:\n",
      " [[ -11.63579211    4.71510613  -79.89485976]\n",
      " [-138.75272415   -7.79928361   32.17398355]\n",
      " [  83.009453    -79.02022049   20.42175229]\n",
      " [  67.37906326   82.10439798   27.29912392]]\n"
     ]
    }
   ],
   "source": [
    "# YOUR CODE GOES HERE\n",
    "W = np.dot(U.T, A)\n",
    "print('Projected data in 3 dimensions:\\n',W.T)"
   ]
  },
  {
   "cell_type": "markdown",
   "metadata": {},
   "source": [
    "## Reconstructing data in 19-D\n",
    "\n",
    "We can project the transformed data `W` back into the original 19-D space using:\n",
    "\n",
    "$\\Gamma_f = U \\Omega + \\Psi$   \n",
    "where:  \n",
    "$\\Gamma_f = $ reconstructed data  \n",
    "$U = $ eigenfaces  \n",
    "$\\Omega = $ Reduced data  \n",
    "$\\Psi = $ Means  \n",
    "\n",
    "Do this, and compute the MSE between each reconstructed sample and corresponding original points. Report all 4 MSE values.\n",
    "\n",
    "\n"
   ]
  },
  {
   "cell_type": "code",
   "execution_count": 35,
   "metadata": {},
   "outputs": [
    {
     "name": "stdout",
     "output_type": "stream",
     "text": [
      "MSE for sample 1: 1.371806e+03\n",
      "MSE for sample 2: 1.762219e+05\n",
      "MSE for sample 3: 9.985760e+04\n",
      "MSE for sample 4: 8.132361e+04\n"
     ]
    }
   ],
   "source": [
    "# YOUR CODE GOES HERE\n",
    "Psi = np.mean(X, axis=0).reshape(-1, 1)\n",
    "Gamma_f = np.dot(U, W) + Psi\n",
    "mse = np.mean((X - Gamma_f.T) ** 2, axis=1)\n",
    "\n",
    "for i in range(4):\n",
    "    print(\"MSE for sample %d: %e\" %(i+1,mse[i]))"
   ]
  },
  {
   "cell_type": "markdown",
   "metadata": {},
   "source": [
    "## 2-D Reconstruction\n",
    "\n",
    "\n",
    "What if we had only used the first 2 eigenvectors to compute the eigenfaces?\n",
    "Below, redo the earlier calculations, but use only two eigenfaces. Compute the 4 MSE values that you would get in this case.\n",
    "\n",
    "(You should get an MSE of 3.626 for the first sample.)"
   ]
  },
  {
   "cell_type": "code",
   "execution_count": 37,
   "metadata": {},
   "outputs": [
    {
     "name": "stdout",
     "output_type": "stream",
     "text": [
      "Using only 2 eigenvectors:\n",
      "MSE for sample 1: 3.626804e+00\n",
      "MSE for sample 2: 5.881609e-01\n",
      "MSE for sample 3: 2.369586e-01\n",
      "MSE for sample 4: 4.234322e-01\n"
     ]
    }
   ],
   "source": [
    "# YOUR CODE GOES HERE\n",
    "e = eigenvectors[:, :2]\n",
    "e_normalized = e / np.linalg.norm(e, axis=0)\n",
    "U = np.dot(A, e_normalized)\n",
    "U = U/np.linalg.norm(U, axis=0)\n",
    "\n",
    "W = np.dot(U.T, A)\n",
    "\n",
    "Psi = np.mean(X, axis=0).reshape(-1, 1)\n",
    "Gamma_f = np.dot(U, W) + Psi\n",
    "mse = np.mean((X - Gamma_f.T) ** 2, axis=1)\n",
    "\n",
    "print(\"Using only 2 eigenvectors:\")\n",
    "for i in range(4):\n",
    "    print(\"MSE for sample %d: %e\" %(i+1,mse[i]))"
   ]
  }
 ],
 "metadata": {
  "kernelspec": {
   "display_name": "Python 3",
   "language": "python",
   "name": "python3"
  },
  "language_info": {
   "codemirror_mode": {
    "name": "ipython",
    "version": 3
   },
   "file_extension": ".py",
   "mimetype": "text/x-python",
   "name": "python",
   "nbconvert_exporter": "python",
   "pygments_lexer": "ipython3",
   "version": "3.12.5"
  },
  "orig_nbformat": 4
 },
 "nbformat": 4,
 "nbformat_minor": 2
}
