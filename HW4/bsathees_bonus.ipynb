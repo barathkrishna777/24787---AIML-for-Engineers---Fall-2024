{
 "cells": [
  {
   "cell_type": "code",
   "execution_count": 1,
   "metadata": {},
   "outputs": [],
   "source": [
    "import numpy as np\n",
    "import pandas as pd\n",
    "from sklearn.svm import SVC\n",
    "from sklearn.linear_model import LogisticRegression\n",
    "from sklearn.pipeline import make_pipeline\n",
    "from sklearn.preprocessing import StandardScaler\n",
    "\n",
    "\n",
    "X_data_train = pd.read_csv(\"bonus/train_input_data.txt\", sep = ' ')\n",
    "y_data_train = pd.read_csv(\"bonus/train_output_data.txt\")\n",
    "\n",
    "X_train = X_data_train.to_numpy()\n",
    "y_train = y_data_train.to_numpy().flatten()\n",
    "y_train_svm = np.where(y_train > 0.5, 1, -1)\n",
    "\n",
    "X_data_test = pd.read_csv(\"bonus/test_input_data.txt\", sep = ' ')\n",
    "y_data_test = pd.read_csv(\"bonus/test_output_data.txt\")\n",
    "\n",
    "X_test = X_data_test.to_numpy()\n",
    "y_test = y_data_test.to_numpy().flatten()\n",
    "y_test_svm = np.where(y_test > 0.5, 1, -1)"
   ]
  },
  {
   "cell_type": "code",
   "execution_count": 2,
   "metadata": {},
   "outputs": [
    {
     "name": "stdout",
     "output_type": "stream",
     "text": [
      "\n",
      "Accuracy of Logistic Regression model for training data:  87.98107897324607\n",
      "Accuracy of Logistic Regression model for test data:  88.09523809523809\n"
     ]
    }
   ],
   "source": [
    "LR = make_pipeline(StandardScaler(), LogisticRegression(C = 100))\n",
    "LR.fit(X_train, y_train)\n",
    "\n",
    "LR_train_accuracy = LR.score(X_train, y_train) * 100\n",
    "print(\"\\nAccuracy of Logistic Regression model for training data: \", LR_train_accuracy)\n",
    "\n",
    "LR_test_accuracy = LR.score(X_test, y_test) * 100\n",
    "print(\"Accuracy of Logistic Regression model for test data: \", LR_test_accuracy)"
   ]
  },
  {
   "cell_type": "code",
   "execution_count": 3,
   "metadata": {},
   "outputs": [
    {
     "name": "stdout",
     "output_type": "stream",
     "text": [
      "\n",
      "Accuracy of SVM with linear kernel for training data:  88.07432776101184\n",
      "Accuracy of SVM with linear kernel for test data:  88.26312576312576\n",
      "\n",
      "Accuracy of SVM with sigmoid kernel for training data:  77.8729103794378\n",
      "Accuracy of SVM with sigmoid kernel for test data:  79.71611721611723\n",
      "\n",
      "Accuracy of SVM with polynomial kernel for training data:  95.26974331151877\n",
      "Accuracy of SVM with polynomial kernel for test data:  94.85653235653236\n",
      "\n",
      "Accuracy of SVM with rbf kernel for training data:  99.12176596249704\n",
      "Accuracy of SVM with rbf kernel for test data:  98.36691086691086\n"
     ]
    }
   ],
   "source": [
    "svm = make_pipeline(StandardScaler(), SVC(kernel = 'linear', gamma = 'scale'))\n",
    "svm.fit(X_train, y_train_svm)\n",
    "\n",
    "svm_train_accuracy = svm.score(X_train, y_train_svm) * 100\n",
    "print(\"\\nAccuracy of SVM with linear kernel for training data: \", svm_train_accuracy)\n",
    "\n",
    "svm_test_accuracy = svm.score(X_test, y_test_svm) * 100\n",
    "print(\"Accuracy of SVM with linear kernel for test data: \", svm_test_accuracy)\n",
    "\n",
    "svm = make_pipeline(StandardScaler(), SVC(kernel = 'sigmoid', gamma = 'scale'))\n",
    "svm.fit(X_train, y_train_svm)\n",
    "\n",
    "svm_train_accuracy = svm.score(X_train, y_train_svm) * 100\n",
    "print(\"\\nAccuracy of SVM with sigmoid kernel for training data: \", svm_train_accuracy)\n",
    "\n",
    "svm_test_accuracy = svm.score(X_test, y_test_svm) * 100\n",
    "print(\"Accuracy of SVM with sigmoid kernel for test data: \", svm_test_accuracy)\n",
    "\n",
    "svm = make_pipeline(StandardScaler(), SVC(kernel = 'poly', gamma = 'scale'))\n",
    "svm.fit(X_train, y_train_svm)\n",
    "\n",
    "svm_train_accuracy = svm.score(X_train, y_train_svm) * 100\n",
    "print(\"\\nAccuracy of SVM with polynomial kernel for training data: \", svm_train_accuracy)\n",
    "\n",
    "svm_test_accuracy = svm.score(X_test, y_test_svm) * 100\n",
    "print(\"Accuracy of SVM with polynomial kernel for test data: \", svm_test_accuracy)\n",
    "\n",
    "svm = make_pipeline(StandardScaler(), SVC(kernel = 'rbf', gamma = 'scale'))\n",
    "svm.fit(X_train, y_train_svm)\n",
    "\n",
    "svm_train_accuracy = svm.score(X_train, y_train_svm) * 100\n",
    "print(\"\\nAccuracy of SVM with rbf kernel for training data: \", svm_train_accuracy)\n",
    "\n",
    "svm_test_accuracy = svm.score(X_test, y_test_svm) * 100\n",
    "print(\"Accuracy of SVM with rbf kernel for test data: \", svm_test_accuracy)\n"
   ]
  }
 ],
 "metadata": {
  "kernelspec": {
   "display_name": "Python 3",
   "language": "python",
   "name": "python3"
  },
  "language_info": {
   "codemirror_mode": {
    "name": "ipython",
    "version": 3
   },
   "file_extension": ".py",
   "mimetype": "text/x-python",
   "name": "python",
   "nbconvert_exporter": "python",
   "pygments_lexer": "ipython3",
   "version": "3.12.5"
  }
 },
 "nbformat": 4,
 "nbformat_minor": 2
}
