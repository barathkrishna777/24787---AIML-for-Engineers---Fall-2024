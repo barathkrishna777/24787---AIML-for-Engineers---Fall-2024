{
 "cells": [
  {
   "attachments": {},
   "cell_type": "markdown",
   "metadata": {},
   "source": [
    "# M2-L1 Problem 1 (5 points)\n",
    "\n",
    "In this question you will perform linear least squares regression on a very small dataset of 3 points. First, load and plot the data by running the following cell.\n",
    "\n",
    "The variables provided are:\n",
    "- x: 3x1 input data\n",
    "- y: 3x1 output data"
   ]
  },
  {
   "cell_type": "code",
   "execution_count": 8,
   "metadata": {},
   "outputs": [
    {
     "data": {
      "image/png": "[encoded data removed]",
      "text/plain": [
       "<Figure size 640x480 with 1 Axes>"
      ]
     },
     "metadata": {},
     "output_type": "display_data"
    }
   ],
   "source": [
    "import numpy as np\n",
    "import matplotlib.pyplot as plt\n",
    "import seaborn as sns\n",
    "\n",
    "x = np.array([[-1, 3, 5]]).T\n",
    "y = np.array([[2, -1, 4]]).T\n",
    "\n",
    "fig, ax = plt.subplots()\n",
    "plt.plot(x, y,'o')\n",
    "ax.spines['left'].set_position(('data', 0))\n",
    "ax.spines['bottom'].set_position(('data', 0))\n",
    "sns.despine()\n",
    "plt.grid()\n",
    "plt.show()"
   ]
  },
  {
   "attachments": {},
   "cell_type": "markdown",
   "metadata": {},
   "source": [
    "## Construct a design matrix\n",
    "\n",
    "For 1-D linear regression, the design matrix must contain not only a column of input x-values, but also a 'bias column' -- a column of ones (to allow the regression line to have an intercept).\n",
    "\n",
    "The next step is to construct the design matrix `X` by concatenating a column of ones to the given input `x`. This has been done for you below:"
   ]
  },
  {
   "cell_type": "code",
   "execution_count": 9,
   "metadata": {},
   "outputs": [
    {
     "name": "stdout",
     "output_type": "stream",
     "text": [
      "Design Matrix:\n",
      " [[-1  1]\n",
      " [ 3  1]\n",
      " [ 5  1]]\n"
     ]
    }
   ],
   "source": [
    "bias = np.ones_like(x)\n",
    "\n",
    "X = np.concatenate([x,bias],1)\n",
    "\n",
    "print(\"Design Matrix:\\n\",X)"
   ]
  },
  {
   "attachments": {},
   "cell_type": "markdown",
   "metadata": {},
   "source": [
    "## Solving for regression coefficients\n",
    "\n",
    "Now that we have the design matrix $X$ and the output $y$, we can solve for the coefficients $w$ such that $X w \\approx y$ using:\n",
    "$$\n",
    "w = (X'\\, X)^{-1}\\, X'\\, y\n",
    "$$\n",
    "\n",
    "Note that you can use the following in Python:\n",
    "- `@` for matrix multiplication\n",
    "- `np.linalg.inv(A)` for inversion of matrix `A`\n",
    "- `A.T` for transpose of a matrix `A`\n",
    "- `b.reshape(-1,1)` to treat 1D array `b` as a column (you will need to do this for `y`)\n",
    "\n",
    "\n",
    "\n",
    "Your line's slope should be $\\approx 0.18$ and your y-intercept should be $\\approx 1.25$."
   ]
  },
  {
   "cell_type": "code",
   "execution_count": 10,
   "metadata": {},
   "outputs": [
    {
     "name": "stdout",
     "output_type": "stream",
     "text": [
      "Linear Coefficients:\n",
      " [[0.17857143]\n",
      " [1.25      ]]\n"
     ]
    }
   ],
   "source": [
    "# YOUR CODE GOES HERE\n",
    "# Get coefficients w\n",
    "w = np.linalg.inv(X.T @ X) @ X.T @ y\n",
    "\n",
    "print(\"Linear Coefficients:\\n\", w)"
   ]
  },
  {
   "attachments": {},
   "cell_type": "markdown",
   "metadata": {},
   "source": [
    "## Making predictions\n",
    "\n",
    "Now that we have the coefficients, we can make predictions on new data with the model.\n",
    "\n",
    "Do the following steps:\n",
    "- [Given] Sample 40 points on the interval [-3,7], such as by using `np.linspace()` (Append `.reshape(-1,1)` to convert to a column)\n",
    "- [Given] Create a design matrix by adding a column of ones as done previously\n",
    "- Make a prediction by multiplying your new design matrix by `w`. You can do matrix multiplication with the `@` symbol\n",
    "\n",
    "- [Given] Add a line to the plot showing these predictions\n",
    "\n"
   ]
  },
  {
   "cell_type": "code",
   "execution_count": 14,
   "metadata": {},
   "outputs": [
    {
     "data": {
      "image/png": "[encoded data removed]",
      "text/plain": [
       "<Figure size 640x480 with 1 Axes>"
      ]
     },
     "metadata": {},
     "output_type": "display_data"
    }
   ],
   "source": [
    "n = 40\n",
    "x_test = np.linspace(-4,7,n).reshape(-1,1)\n",
    "bias_test = np.ones_like(x_test)\n",
    "X_test = np.concatenate([x_test, bias_test], 1)\n",
    "\n",
    "# YOUR CODE GOES HERE\n",
    "# Predict y_test\n",
    "y_test = X_test @ w\n",
    "\n",
    "fig, ax = plt.subplots()\n",
    "plt.plot(x, y, '.')\n",
    "plt.plot(x_test, y_test)\n",
    "ax.spines['left'].set_position(('data', 0))\n",
    "ax.spines['bottom'].set_position(('data', 0))\n",
    "plt.legend(['data_points', 'linear_fit'])\n",
    "sns.despine()\n",
    "plt.grid()\n",
    "plt.show()"
   ]
  }
 ],
 "metadata": {
  "kernelspec": {
   "display_name": "Python 3 (ipykernel)",
   "language": "python",
   "name": "python3"
  },
  "language_info": {
   "codemirror_mode": {
    "name": "ipython",
    "version": 3
   },
   "file_extension": ".py",
   "mimetype": "text/x-python",
   "name": "python",
   "nbconvert_exporter": "python",
   "pygments_lexer": "ipython3",
   "version": "3.12.5"
  }
 },
 "nbformat": 4,
 "nbformat_minor": 4
}
